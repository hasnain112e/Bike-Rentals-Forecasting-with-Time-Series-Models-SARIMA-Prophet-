{
  "nbformat": 4,
  "nbformat_minor": 0,
  "metadata": {
    "colab": {
      "provenance": [],
      "authorship_tag": "ABX9TyNmwu3ixVE/e445/BvBJ4cE",
      "include_colab_link": true
    },
    "kernelspec": {
      "name": "python3",
      "display_name": "Python 3"
    },
    "language_info": {
      "name": "python"
    }
  },
  "cells": [
    {
      "cell_type": "markdown",
      "metadata": {
        "id": "view-in-github",
        "colab_type": "text"
      },
      "source": [
        "<a href=\"https://colab.research.google.com/github/hasnain112e/Bike-Rentals-Forecasting-with-Time-Series-Models-SARIMA-Prophet-/blob/main/Untitled176.ipynb\" target=\"_parent\"><img src=\"https://colab.research.google.com/assets/colab-badge.svg\" alt=\"Open In Colab\"/></a>"
      ]
    },
    {
      "cell_type": "markdown",
      "metadata": {
        "id": "c8dd3670"
      },
      "source": [
        "# Task\n",
        " complete Python project to forecast daily bike rentals using the prophet library, based on the provided \"day.csv\" file from the UCI Bike Sharing Dataset. The project should include installing required libraries (pandas, matplotlib, prophet, scikit-learn), loading and preparing the data (converting date, sorting, selecting columns), cleaning the data (handling missing values, duplicates, ensuring numeric types), visualizing the data to identify trends, splitting the data into training (all but last 30 days) and testing (last 30 days) sets, fitting a Prophet model with yearly seasonality, forecasting the next 30 days, plotting the forecast against actual values, evaluating the model using MSE and MAE, adding line-by-line comments, and concluding with a summary of the model's accuracy and findings."
      ]
    },
    {
      "cell_type": "markdown",
      "metadata": {
        "id": "64c39d78"
      },
      "source": [
        "## Install libraries\n",
        "\n",
        "### Subtask:\n",
        "Install necessary libraries including pandas, matplotlib, prophet, and scikit-learn.\n"
      ]
    },
    {
      "cell_type": "markdown",
      "metadata": {
        "id": "ad604305"
      },
      "source": [
        "**Reasoning**:\n",
        "The subtask requires installing several libraries. I will use pip to install all of them in a single code block.\n",
        "\n"
      ]
    },
    {
      "cell_type": "code",
      "metadata": {
        "colab": {
          "base_uri": "https://localhost:8080/"
        },
        "id": "7241b3d9",
        "outputId": "13eebe9f-425d-4640-be7d-f1bf6df0bdf8"
      },
      "source": [
        "%pip install pandas matplotlib prophet scikit-learn"
      ],
      "execution_count": 1,
      "outputs": [
        {
          "output_type": "stream",
          "name": "stdout",
          "text": [
            "Requirement already satisfied: pandas in /usr/local/lib/python3.11/dist-packages (2.2.2)\n",
            "Requirement already satisfied: matplotlib in /usr/local/lib/python3.11/dist-packages (3.10.0)\n",
            "Requirement already satisfied: prophet in /usr/local/lib/python3.11/dist-packages (1.1.7)\n",
            "Requirement already satisfied: scikit-learn in /usr/local/lib/python3.11/dist-packages (1.6.1)\n",
            "Requirement already satisfied: numpy>=1.23.2 in /usr/local/lib/python3.11/dist-packages (from pandas) (2.0.2)\n",
            "Requirement already satisfied: python-dateutil>=2.8.2 in /usr/local/lib/python3.11/dist-packages (from pandas) (2.9.0.post0)\n",
            "Requirement already satisfied: pytz>=2020.1 in /usr/local/lib/python3.11/dist-packages (from pandas) (2025.2)\n",
            "Requirement already satisfied: tzdata>=2022.7 in /usr/local/lib/python3.11/dist-packages (from pandas) (2025.2)\n",
            "Requirement already satisfied: contourpy>=1.0.1 in /usr/local/lib/python3.11/dist-packages (from matplotlib) (1.3.3)\n",
            "Requirement already satisfied: cycler>=0.10 in /usr/local/lib/python3.11/dist-packages (from matplotlib) (0.12.1)\n",
            "Requirement already satisfied: fonttools>=4.22.0 in /usr/local/lib/python3.11/dist-packages (from matplotlib) (4.59.0)\n",
            "Requirement already satisfied: kiwisolver>=1.3.1 in /usr/local/lib/python3.11/dist-packages (from matplotlib) (1.4.8)\n",
            "Requirement already satisfied: packaging>=20.0 in /usr/local/lib/python3.11/dist-packages (from matplotlib) (25.0)\n",
            "Requirement already satisfied: pillow>=8 in /usr/local/lib/python3.11/dist-packages (from matplotlib) (11.3.0)\n",
            "Requirement already satisfied: pyparsing>=2.3.1 in /usr/local/lib/python3.11/dist-packages (from matplotlib) (3.2.3)\n",
            "Requirement already satisfied: cmdstanpy>=1.0.4 in /usr/local/lib/python3.11/dist-packages (from prophet) (1.2.5)\n",
            "Requirement already satisfied: holidays<1,>=0.25 in /usr/local/lib/python3.11/dist-packages (from prophet) (0.78)\n",
            "Requirement already satisfied: tqdm>=4.36.1 in /usr/local/lib/python3.11/dist-packages (from prophet) (4.67.1)\n",
            "Requirement already satisfied: importlib_resources in /usr/local/lib/python3.11/dist-packages (from prophet) (6.5.2)\n",
            "Requirement already satisfied: scipy>=1.6.0 in /usr/local/lib/python3.11/dist-packages (from scikit-learn) (1.16.1)\n",
            "Requirement already satisfied: joblib>=1.2.0 in /usr/local/lib/python3.11/dist-packages (from scikit-learn) (1.5.1)\n",
            "Requirement already satisfied: threadpoolctl>=3.1.0 in /usr/local/lib/python3.11/dist-packages (from scikit-learn) (3.6.0)\n",
            "Requirement already satisfied: stanio<2.0.0,>=0.4.0 in /usr/local/lib/python3.11/dist-packages (from cmdstanpy>=1.0.4->prophet) (0.5.1)\n",
            "Requirement already satisfied: six>=1.5 in /usr/local/lib/python3.11/dist-packages (from python-dateutil>=2.8.2->pandas) (1.17.0)\n"
          ]
        }
      ]
    },
    {
      "cell_type": "markdown",
      "metadata": {
        "id": "f92c5560"
      },
      "source": [
        "## Load data\n",
        "\n",
        "### Subtask:\n",
        "Load the `day.csv` dataset, convert the 'dteday' column to datetime objects, sort the data by date, and select 'dteday' as 'ds' and 'cnt' as 'y' for Prophet modeling.\n"
      ]
    },
    {
      "cell_type": "markdown",
      "metadata": {
        "id": "eca0e3fb"
      },
      "source": [
        "**Reasoning**:\n",
        "The first step is to load the data, convert the date column to datetime objects, sort the data by date, and select and rename the necessary columns for Prophet modeling.\n",
        "\n"
      ]
    },
    {
      "cell_type": "code",
      "metadata": {
        "colab": {
          "base_uri": "https://localhost:8080/",
          "height": 223
        },
        "id": "6c803de0",
        "outputId": "e386e7c3-9a42-49c5-a7f5-6f9cd1230288"
      },
      "source": [
        "import pandas as pd\n",
        "\n",
        "# Load the dataset\n",
        "df = pd.read_csv('day.csv')\n",
        "\n",
        "# Convert 'dteday' to datetime objects\n",
        "df['dteday'] = pd.to_datetime(df['dteday'])\n",
        "\n",
        "# Sort the DataFrame by date\n",
        "df = df.sort_values(by='dteday')\n",
        "\n",
        "# Select and rename columns for Prophet\n",
        "prophet_df = df[['dteday', 'cnt']].rename(columns={'dteday': 'ds', 'cnt': 'y'})\n",
        "\n",
        "# Display the first few rows of the prepared DataFrame\n",
        "print(\"Prepared DataFrame for Prophet:\")\n",
        "display(prophet_df.head())"
      ],
      "execution_count": 2,
      "outputs": [
        {
          "output_type": "stream",
          "name": "stdout",
          "text": [
            "Prepared DataFrame for Prophet:\n"
          ]
        },
        {
          "output_type": "display_data",
          "data": {
            "text/plain": [
              "          ds     y\n",
              "0 2011-01-01   985\n",
              "1 2011-01-02   801\n",
              "2 2011-01-03  1349\n",
              "3 2011-01-04  1562\n",
              "4 2011-01-05  1600"
            ],
            "text/html": [
              "\n",
              "  <div id=\"df-1675caad-32fa-4e7b-9b4c-3289c011d293\" class=\"colab-df-container\">\n",
              "    <div>\n",
              "<style scoped>\n",
              "    .dataframe tbody tr th:only-of-type {\n",
              "        vertical-align: middle;\n",
              "    }\n",
              "\n",
              "    .dataframe tbody tr th {\n",
              "        vertical-align: top;\n",
              "    }\n",
              "\n",
              "    .dataframe thead th {\n",
              "        text-align: right;\n",
              "    }\n",
              "</style>\n",
              "<table border=\"1\" class=\"dataframe\">\n",
              "  <thead>\n",
              "    <tr style=\"text-align: right;\">\n",
              "      <th></th>\n",
              "      <th>ds</th>\n",
              "      <th>y</th>\n",
              "    </tr>\n",
              "  </thead>\n",
              "  <tbody>\n",
              "    <tr>\n",
              "      <th>0</th>\n",
              "      <td>2011-01-01</td>\n",
              "      <td>985</td>\n",
              "    </tr>\n",
              "    <tr>\n",
              "      <th>1</th>\n",
              "      <td>2011-01-02</td>\n",
              "      <td>801</td>\n",
              "    </tr>\n",
              "    <tr>\n",
              "      <th>2</th>\n",
              "      <td>2011-01-03</td>\n",
              "      <td>1349</td>\n",
              "    </tr>\n",
              "    <tr>\n",
              "      <th>3</th>\n",
              "      <td>2011-01-04</td>\n",
              "      <td>1562</td>\n",
              "    </tr>\n",
              "    <tr>\n",
              "      <th>4</th>\n",
              "      <td>2011-01-05</td>\n",
              "      <td>1600</td>\n",
              "    </tr>\n",
              "  </tbody>\n",
              "</table>\n",
              "</div>\n",
              "    <div class=\"colab-df-buttons\">\n",
              "\n",
              "  <div class=\"colab-df-container\">\n",
              "    <button class=\"colab-df-convert\" onclick=\"convertToInteractive('df-1675caad-32fa-4e7b-9b4c-3289c011d293')\"\n",
              "            title=\"Convert this dataframe to an interactive table.\"\n",
              "            style=\"display:none;\">\n",
              "\n",
              "  <svg xmlns=\"http://www.w3.org/2000/svg\" height=\"24px\" viewBox=\"0 -960 960 960\">\n",
              "    <path d=\"M120-120v-720h720v720H120Zm60-500h600v-160H180v160Zm220 220h160v-160H400v160Zm0 220h160v-160H400v160ZM180-400h160v-160H180v160Zm440 0h160v-160H620v160ZM180-180h160v-160H180v160Zm440 0h160v-160H620v160Z\"/>\n",
              "  </svg>\n",
              "    </button>\n",
              "\n",
              "  <style>\n",
              "    .colab-df-container {\n",
              "      display:flex;\n",
              "      gap: 12px;\n",
              "    }\n",
              "\n",
              "    .colab-df-convert {\n",
              "      background-color: #E8F0FE;\n",
              "      border: none;\n",
              "      border-radius: 50%;\n",
              "      cursor: pointer;\n",
              "      display: none;\n",
              "      fill: #1967D2;\n",
              "      height: 32px;\n",
              "      padding: 0 0 0 0;\n",
              "      width: 32px;\n",
              "    }\n",
              "\n",
              "    .colab-df-convert:hover {\n",
              "      background-color: #E2EBFA;\n",
              "      box-shadow: 0px 1px 2px rgba(60, 64, 67, 0.3), 0px 1px 3px 1px rgba(60, 64, 67, 0.15);\n",
              "      fill: #174EA6;\n",
              "    }\n",
              "\n",
              "    .colab-df-buttons div {\n",
              "      margin-bottom: 4px;\n",
              "    }\n",
              "\n",
              "    [theme=dark] .colab-df-convert {\n",
              "      background-color: #3B4455;\n",
              "      fill: #D2E3FC;\n",
              "    }\n",
              "\n",
              "    [theme=dark] .colab-df-convert:hover {\n",
              "      background-color: #434B5C;\n",
              "      box-shadow: 0px 1px 3px 1px rgba(0, 0, 0, 0.15);\n",
              "      filter: drop-shadow(0px 1px 2px rgba(0, 0, 0, 0.3));\n",
              "      fill: #FFFFFF;\n",
              "    }\n",
              "  </style>\n",
              "\n",
              "    <script>\n",
              "      const buttonEl =\n",
              "        document.querySelector('#df-1675caad-32fa-4e7b-9b4c-3289c011d293 button.colab-df-convert');\n",
              "      buttonEl.style.display =\n",
              "        google.colab.kernel.accessAllowed ? 'block' : 'none';\n",
              "\n",
              "      async function convertToInteractive(key) {\n",
              "        const element = document.querySelector('#df-1675caad-32fa-4e7b-9b4c-3289c011d293');\n",
              "        const dataTable =\n",
              "          await google.colab.kernel.invokeFunction('convertToInteractive',\n",
              "                                                    [key], {});\n",
              "        if (!dataTable) return;\n",
              "\n",
              "        const docLinkHtml = 'Like what you see? Visit the ' +\n",
              "          '<a target=\"_blank\" href=https://colab.research.google.com/notebooks/data_table.ipynb>data table notebook</a>'\n",
              "          + ' to learn more about interactive tables.';\n",
              "        element.innerHTML = '';\n",
              "        dataTable['output_type'] = 'display_data';\n",
              "        await google.colab.output.renderOutput(dataTable, element);\n",
              "        const docLink = document.createElement('div');\n",
              "        docLink.innerHTML = docLinkHtml;\n",
              "        element.appendChild(docLink);\n",
              "      }\n",
              "    </script>\n",
              "  </div>\n",
              "\n",
              "\n",
              "    <div id=\"df-b224c1b7-4fef-459c-ba68-32e64dba09d5\">\n",
              "      <button class=\"colab-df-quickchart\" onclick=\"quickchart('df-b224c1b7-4fef-459c-ba68-32e64dba09d5')\"\n",
              "                title=\"Suggest charts\"\n",
              "                style=\"display:none;\">\n",
              "\n",
              "<svg xmlns=\"http://www.w3.org/2000/svg\" height=\"24px\"viewBox=\"0 0 24 24\"\n",
              "     width=\"24px\">\n",
              "    <g>\n",
              "        <path d=\"M19 3H5c-1.1 0-2 .9-2 2v14c0 1.1.9 2 2 2h14c1.1 0 2-.9 2-2V5c0-1.1-.9-2-2-2zM9 17H7v-7h2v7zm4 0h-2V7h2v10zm4 0h-2v-4h2v4z\"/>\n",
              "    </g>\n",
              "</svg>\n",
              "      </button>\n",
              "\n",
              "<style>\n",
              "  .colab-df-quickchart {\n",
              "      --bg-color: #E8F0FE;\n",
              "      --fill-color: #1967D2;\n",
              "      --hover-bg-color: #E2EBFA;\n",
              "      --hover-fill-color: #174EA6;\n",
              "      --disabled-fill-color: #AAA;\n",
              "      --disabled-bg-color: #DDD;\n",
              "  }\n",
              "\n",
              "  [theme=dark] .colab-df-quickchart {\n",
              "      --bg-color: #3B4455;\n",
              "      --fill-color: #D2E3FC;\n",
              "      --hover-bg-color: #434B5C;\n",
              "      --hover-fill-color: #FFFFFF;\n",
              "      --disabled-bg-color: #3B4455;\n",
              "      --disabled-fill-color: #666;\n",
              "  }\n",
              "\n",
              "  .colab-df-quickchart {\n",
              "    background-color: var(--bg-color);\n",
              "    border: none;\n",
              "    border-radius: 50%;\n",
              "    cursor: pointer;\n",
              "    display: none;\n",
              "    fill: var(--fill-color);\n",
              "    height: 32px;\n",
              "    padding: 0;\n",
              "    width: 32px;\n",
              "  }\n",
              "\n",
              "  .colab-df-quickchart:hover {\n",
              "    background-color: var(--hover-bg-color);\n",
              "    box-shadow: 0 1px 2px rgba(60, 64, 67, 0.3), 0 1px 3px 1px rgba(60, 64, 67, 0.15);\n",
              "    fill: var(--button-hover-fill-color);\n",
              "  }\n",
              "\n",
              "  .colab-df-quickchart-complete:disabled,\n",
              "  .colab-df-quickchart-complete:disabled:hover {\n",
              "    background-color: var(--disabled-bg-color);\n",
              "    fill: var(--disabled-fill-color);\n",
              "    box-shadow: none;\n",
              "  }\n",
              "\n",
              "  .colab-df-spinner {\n",
              "    border: 2px solid var(--fill-color);\n",
              "    border-color: transparent;\n",
              "    border-bottom-color: var(--fill-color);\n",
              "    animation:\n",
              "      spin 1s steps(1) infinite;\n",
              "  }\n",
              "\n",
              "  @keyframes spin {\n",
              "    0% {\n",
              "      border-color: transparent;\n",
              "      border-bottom-color: var(--fill-color);\n",
              "      border-left-color: var(--fill-color);\n",
              "    }\n",
              "    20% {\n",
              "      border-color: transparent;\n",
              "      border-left-color: var(--fill-color);\n",
              "      border-top-color: var(--fill-color);\n",
              "    }\n",
              "    30% {\n",
              "      border-color: transparent;\n",
              "      border-left-color: var(--fill-color);\n",
              "      border-top-color: var(--fill-color);\n",
              "      border-right-color: var(--fill-color);\n",
              "    }\n",
              "    40% {\n",
              "      border-color: transparent;\n",
              "      border-right-color: var(--fill-color);\n",
              "      border-top-color: var(--fill-color);\n",
              "    }\n",
              "    60% {\n",
              "      border-color: transparent;\n",
              "      border-right-color: var(--fill-color);\n",
              "    }\n",
              "    80% {\n",
              "      border-color: transparent;\n",
              "      border-right-color: var(--fill-color);\n",
              "      border-bottom-color: var(--fill-color);\n",
              "    }\n",
              "    90% {\n",
              "      border-color: transparent;\n",
              "      border-bottom-color: var(--fill-color);\n",
              "    }\n",
              "  }\n",
              "</style>\n",
              "\n",
              "      <script>\n",
              "        async function quickchart(key) {\n",
              "          const quickchartButtonEl =\n",
              "            document.querySelector('#' + key + ' button');\n",
              "          quickchartButtonEl.disabled = true;  // To prevent multiple clicks.\n",
              "          quickchartButtonEl.classList.add('colab-df-spinner');\n",
              "          try {\n",
              "            const charts = await google.colab.kernel.invokeFunction(\n",
              "                'suggestCharts', [key], {});\n",
              "          } catch (error) {\n",
              "            console.error('Error during call to suggestCharts:', error);\n",
              "          }\n",
              "          quickchartButtonEl.classList.remove('colab-df-spinner');\n",
              "          quickchartButtonEl.classList.add('colab-df-quickchart-complete');\n",
              "        }\n",
              "        (() => {\n",
              "          let quickchartButtonEl =\n",
              "            document.querySelector('#df-b224c1b7-4fef-459c-ba68-32e64dba09d5 button');\n",
              "          quickchartButtonEl.style.display =\n",
              "            google.colab.kernel.accessAllowed ? 'block' : 'none';\n",
              "        })();\n",
              "      </script>\n",
              "    </div>\n",
              "\n",
              "    </div>\n",
              "  </div>\n"
            ],
            "application/vnd.google.colaboratory.intrinsic+json": {
              "type": "dataframe",
              "summary": "{\n  \"name\": \"display(prophet_df\",\n  \"rows\": 5,\n  \"fields\": [\n    {\n      \"column\": \"ds\",\n      \"properties\": {\n        \"dtype\": \"date\",\n        \"min\": \"2011-01-01 00:00:00\",\n        \"max\": \"2011-01-05 00:00:00\",\n        \"num_unique_values\": 5,\n        \"samples\": [\n          \"2011-01-02 00:00:00\",\n          \"2011-01-05 00:00:00\",\n          \"2011-01-03 00:00:00\"\n        ],\n        \"semantic_type\": \"\",\n        \"description\": \"\"\n      }\n    },\n    {\n      \"column\": \"y\",\n      \"properties\": {\n        \"dtype\": \"number\",\n        \"std\": 353,\n        \"min\": 801,\n        \"max\": 1600,\n        \"num_unique_values\": 5,\n        \"samples\": [\n          801,\n          1600,\n          1349\n        ],\n        \"semantic_type\": \"\",\n        \"description\": \"\"\n      }\n    }\n  ]\n}"
            }
          },
          "metadata": {}
        }
      ]
    },
    {
      "cell_type": "markdown",
      "metadata": {
        "id": "78c9619f"
      },
      "source": [
        "## Clean data\n",
        "\n",
        "### Subtask:\n",
        "Check for and handle missing values, ensure no duplicate dates, and confirm that the 'y' column contains numeric values.\n"
      ]
    },
    {
      "cell_type": "markdown",
      "metadata": {
        "id": "2a198154"
      },
      "source": [
        "**Reasoning**:\n",
        "Check for missing values and duplicate dates in the `prophet_df` DataFrame.\n",
        "\n"
      ]
    },
    {
      "cell_type": "code",
      "metadata": {
        "colab": {
          "base_uri": "https://localhost:8080/"
        },
        "id": "b5e74e88",
        "outputId": "b76aeeb2-27c4-4348-a2bb-795856504512"
      },
      "source": [
        "# Check for missing values\n",
        "missing_values = prophet_df.isnull().sum()\n",
        "print(\"Missing values per column:\")\n",
        "print(missing_values)\n",
        "\n",
        "# Check for duplicate dates in 'ds' column\n",
        "duplicate_dates = prophet_df['ds'].duplicated().sum()\n",
        "print(f\"\\nNumber of duplicate dates: {duplicate_dates}\")\n",
        "\n",
        "# Verify 'y' column data type\n",
        "y_dtype = prophet_df['y'].dtype\n",
        "print(f\"\\nData type of 'y' column: {y_dtype}\")"
      ],
      "execution_count": 3,
      "outputs": [
        {
          "output_type": "stream",
          "name": "stdout",
          "text": [
            "Missing values per column:\n",
            "ds    0\n",
            "y     0\n",
            "dtype: int64\n",
            "\n",
            "Number of duplicate dates: 0\n",
            "\n",
            "Data type of 'y' column: int64\n"
          ]
        }
      ]
    },
    {
      "cell_type": "markdown",
      "metadata": {
        "id": "ea596a30"
      },
      "source": [
        "## Visualize data\n",
        "\n",
        "### Subtask:\n",
        "Create a plot to visualize the daily bike rentals over time to identify trends and seasonality.\n"
      ]
    },
    {
      "cell_type": "markdown",
      "metadata": {
        "id": "5d2ecdce"
      },
      "source": [
        "**Reasoning**:\n",
        "Create a time series plot of daily bike rentals using matplotlib to visualize trends and seasonality.\n",
        "\n"
      ]
    },
    {
      "cell_type": "code",
      "metadata": {
        "colab": {
          "base_uri": "https://localhost:8080/",
          "height": 564
        },
        "id": "ce6c70c4",
        "outputId": "3a7441f2-f4df-4647-dd45-495fe5ce73cd"
      },
      "source": [
        "import matplotlib.pyplot as plt\n",
        "\n",
        "# Create the time series plot\n",
        "plt.figure(figsize=(12, 6)) # Adjust figure size for better readability\n",
        "plt.plot(prophet_df['ds'], prophet_df['y'])\n",
        "\n",
        "# Add title and labels\n",
        "plt.title('Daily Bike Rentals Over Time')\n",
        "plt.xlabel('Date')\n",
        "plt.ylabel('Number of Bike Rentals')\n",
        "\n",
        "# Display the plot\n",
        "plt.show()"
      ],
      "execution_count": 4,
      "outputs": [
        {
          "output_type": "display_data",
          "data": {
            "text/plain": [
              "<Figure size 1200x600 with 1 Axes>"
            ],
            "image/png": "[encoded data removed]"
          },
          "metadata": {}
        }
      ]
    },
    {
      "cell_type": "markdown",
      "metadata": {
        "id": "258359fe"
      },
      "source": [
        "## Split data\n",
        "\n",
        "### Subtask:\n",
        "Split the data into training and testing sets, using the last 30 days for testing and the remaining data for training.\n"
      ]
    },
    {
      "cell_type": "markdown",
      "metadata": {
        "id": "3a92233f"
      },
      "source": [
        "**Reasoning**:\n",
        "Calculate the index to split the data and then create the training and testing dataframes based on this index.\n",
        "\n"
      ]
    },
    {
      "cell_type": "code",
      "metadata": {
        "colab": {
          "base_uri": "https://localhost:8080/",
          "height": 275
        },
        "id": "17084f20",
        "outputId": "ac217d43-a82c-4746-8859-e6a73df4a1ba"
      },
      "source": [
        "# Determine the index for the last 30 days\n",
        "split_index = len(prophet_df) - 30\n",
        "\n",
        "# Create the training DataFrame\n",
        "train_df = prophet_df.iloc[:split_index]\n",
        "\n",
        "# Create the testing DataFrame\n",
        "test_df = prophet_df.iloc[split_index:]\n",
        "\n",
        "# Display the number of rows in each DataFrame to verify the split\n",
        "print(f\"Number of rows in training set: {len(train_df)}\")\n",
        "print(f\"Number of rows in testing set: {len(test_df)}\")\n",
        "\n",
        "# Display the first few rows of the test set to verify it contains the last 30 days\n",
        "print(\"\\nFirst few rows of the testing set:\")\n",
        "display(test_df.head())"
      ],
      "execution_count": 5,
      "outputs": [
        {
          "output_type": "stream",
          "name": "stdout",
          "text": [
            "Number of rows in training set: 701\n",
            "Number of rows in testing set: 30\n",
            "\n",
            "First few rows of the testing set:\n"
          ]
        },
        {
          "output_type": "display_data",
          "data": {
            "text/plain": [
              "            ds     y\n",
              "701 2012-12-02  4649\n",
              "702 2012-12-03  6234\n",
              "703 2012-12-04  6606\n",
              "704 2012-12-05  5729\n",
              "705 2012-12-06  5375"
            ],
            "text/html": [
              "\n",
              "  <div id=\"df-a7142654-8831-47f0-b5a1-0034acea426e\" class=\"colab-df-container\">\n",
              "    <div>\n",
              "<style scoped>\n",
              "    .dataframe tbody tr th:only-of-type {\n",
              "        vertical-align: middle;\n",
              "    }\n",
              "\n",
              "    .dataframe tbody tr th {\n",
              "        vertical-align: top;\n",
              "    }\n",
              "\n",
              "    .dataframe thead th {\n",
              "        text-align: right;\n",
              "    }\n",
              "</style>\n",
              "<table border=\"1\" class=\"dataframe\">\n",
              "  <thead>\n",
              "    <tr style=\"text-align: right;\">\n",
              "      <th></th>\n",
              "      <th>ds</th>\n",
              "      <th>y</th>\n",
              "    </tr>\n",
              "  </thead>\n",
              "  <tbody>\n",
              "    <tr>\n",
              "      <th>701</th>\n",
              "      <td>2012-12-02</td>\n",
              "      <td>4649</td>\n",
              "    </tr>\n",
              "    <tr>\n",
              "      <th>702</th>\n",
              "      <td>2012-12-03</td>\n",
              "      <td>6234</td>\n",
              "    </tr>\n",
              "    <tr>\n",
              "      <th>703</th>\n",
              "      <td>2012-12-04</td>\n",
              "      <td>6606</td>\n",
              "    </tr>\n",
              "    <tr>\n",
              "      <th>704</th>\n",
              "      <td>2012-12-05</td>\n",
              "      <td>5729</td>\n",
              "    </tr>\n",
              "    <tr>\n",
              "      <th>705</th>\n",
              "      <td>2012-12-06</td>\n",
              "      <td>5375</td>\n",
              "    </tr>\n",
              "  </tbody>\n",
              "</table>\n",
              "</div>\n",
              "    <div class=\"colab-df-buttons\">\n",
              "\n",
              "  <div class=\"colab-df-container\">\n",
              "    <button class=\"colab-df-convert\" onclick=\"convertToInteractive('df-a7142654-8831-47f0-b5a1-0034acea426e')\"\n",
              "            title=\"Convert this dataframe to an interactive table.\"\n",
              "            style=\"display:none;\">\n",
              "\n",
              "  <svg xmlns=\"http://www.w3.org/2000/svg\" height=\"24px\" viewBox=\"0 -960 960 960\">\n",
              "    <path d=\"M120-120v-720h720v720H120Zm60-500h600v-160H180v160Zm220 220h160v-160H400v160Zm0 220h160v-160H400v160ZM180-400h160v-160H180v160Zm440 0h160v-160H620v160ZM180-180h160v-160H180v160Zm440 0h160v-160H620v160Z\"/>\n",
              "  </svg>\n",
              "    </button>\n",
              "\n",
              "  <style>\n",
              "    .colab-df-container {\n",
              "      display:flex;\n",
              "      gap: 12px;\n",
              "    }\n",
              "\n",
              "    .colab-df-convert {\n",
              "      background-color: #E8F0FE;\n",
              "      border: none;\n",
              "      border-radius: 50%;\n",
              "      cursor: pointer;\n",
              "      display: none;\n",
              "      fill: #1967D2;\n",
              "      height: 32px;\n",
              "      padding: 0 0 0 0;\n",
              "      width: 32px;\n",
              "    }\n",
              "\n",
              "    .colab-df-convert:hover {\n",
              "      background-color: #E2EBFA;\n",
              "      box-shadow: 0px 1px 2px rgba(60, 64, 67, 0.3), 0px 1px 3px 1px rgba(60, 64, 67, 0.15);\n",
              "      fill: #174EA6;\n",
              "    }\n",
              "\n",
              "    .colab-df-buttons div {\n",
              "      margin-bottom: 4px;\n",
              "    }\n",
              "\n",
              "    [theme=dark] .colab-df-convert {\n",
              "      background-color: #3B4455;\n",
              "      fill: #D2E3FC;\n",
              "    }\n",
              "\n",
              "    [theme=dark] .colab-df-convert:hover {\n",
              "      background-color: #434B5C;\n",
              "      box-shadow: 0px 1px 3px 1px rgba(0, 0, 0, 0.15);\n",
              "      filter: drop-shadow(0px 1px 2px rgba(0, 0, 0, 0.3));\n",
              "      fill: #FFFFFF;\n",
              "    }\n",
              "  </style>\n",
              "\n",
              "    <script>\n",
              "      const buttonEl =\n",
              "        document.querySelector('#df-a7142654-8831-47f0-b5a1-0034acea426e button.colab-df-convert');\n",
              "      buttonEl.style.display =\n",
              "        google.colab.kernel.accessAllowed ? 'block' : 'none';\n",
              "\n",
              "      async function convertToInteractive(key) {\n",
              "        const element = document.querySelector('#df-a7142654-8831-47f0-b5a1-0034acea426e');\n",
              "        const dataTable =\n",
              "          await google.colab.kernel.invokeFunction('convertToInteractive',\n",
              "                                                    [key], {});\n",
              "        if (!dataTable) return;\n",
              "\n",
              "        const docLinkHtml = 'Like what you see? Visit the ' +\n",
              "          '<a target=\"_blank\" href=https://colab.research.google.com/notebooks/data_table.ipynb>data table notebook</a>'\n",
              "          + ' to learn more about interactive tables.';\n",
              "        element.innerHTML = '';\n",
              "        dataTable['output_type'] = 'display_data';\n",
              "        await google.colab.output.renderOutput(dataTable, element);\n",
              "        const docLink = document.createElement('div');\n",
              "        docLink.innerHTML = docLinkHtml;\n",
              "        element.appendChild(docLink);\n",
              "      }\n",
              "    </script>\n",
              "  </div>\n",
              "\n",
              "\n",
              "    <div id=\"df-247af797-a1a9-4932-8f39-5d679d042431\">\n",
              "      <button class=\"colab-df-quickchart\" onclick=\"quickchart('df-247af797-a1a9-4932-8f39-5d679d042431')\"\n",
              "                title=\"Suggest charts\"\n",
              "                style=\"display:none;\">\n",
              "\n",
              "<svg xmlns=\"http://www.w3.org/2000/svg\" height=\"24px\"viewBox=\"0 0 24 24\"\n",
              "     width=\"24px\">\n",
              "    <g>\n",
              "        <path d=\"M19 3H5c-1.1 0-2 .9-2 2v14c0 1.1.9 2 2 2h14c1.1 0 2-.9 2-2V5c0-1.1-.9-2-2-2zM9 17H7v-7h2v7zm4 0h-2V7h2v10zm4 0h-2v-4h2v4z\"/>\n",
              "    </g>\n",
              "</svg>\n",
              "      </button>\n",
              "\n",
              "<style>\n",
              "  .colab-df-quickchart {\n",
              "      --bg-color: #E8F0FE;\n",
              "      --fill-color: #1967D2;\n",
              "      --hover-bg-color: #E2EBFA;\n",
              "      --hover-fill-color: #174EA6;\n",
              "      --disabled-fill-color: #AAA;\n",
              "      --disabled-bg-color: #DDD;\n",
              "  }\n",
              "\n",
              "  [theme=dark] .colab-df-quickchart {\n",
              "      --bg-color: #3B4455;\n",
              "      --fill-color: #D2E3FC;\n",
              "      --hover-bg-color: #434B5C;\n",
              "      --hover-fill-color: #FFFFFF;\n",
              "      --disabled-bg-color: #3B4455;\n",
              "      --disabled-fill-color: #666;\n",
              "  }\n",
              "\n",
              "  .colab-df-quickchart {\n",
              "    background-color: var(--bg-color);\n",
              "    border: none;\n",
              "    border-radius: 50%;\n",
              "    cursor: pointer;\n",
              "    display: none;\n",
              "    fill: var(--fill-color);\n",
              "    height: 32px;\n",
              "    padding: 0;\n",
              "    width: 32px;\n",
              "  }\n",
              "\n",
              "  .colab-df-quickchart:hover {\n",
              "    background-color: var(--hover-bg-color);\n",
              "    box-shadow: 0 1px 2px rgba(60, 64, 67, 0.3), 0 1px 3px 1px rgba(60, 64, 67, 0.15);\n",
              "    fill: var(--button-hover-fill-color);\n",
              "  }\n",
              "\n",
              "  .colab-df-quickchart-complete:disabled,\n",
              "  .colab-df-quickchart-complete:disabled:hover {\n",
              "    background-color: var(--disabled-bg-color);\n",
              "    fill: var(--disabled-fill-color);\n",
              "    box-shadow: none;\n",
              "  }\n",
              "\n",
              "  .colab-df-spinner {\n",
              "    border: 2px solid var(--fill-color);\n",
              "    border-color: transparent;\n",
              "    border-bottom-color: var(--fill-color);\n",
              "    animation:\n",
              "      spin 1s steps(1) infinite;\n",
              "  }\n",
              "\n",
              "  @keyframes spin {\n",
              "    0% {\n",
              "      border-color: transparent;\n",
              "      border-bottom-color: var(--fill-color);\n",
              "      border-left-color: var(--fill-color);\n",
              "    }\n",
              "    20% {\n",
              "      border-color: transparent;\n",
              "      border-left-color: var(--fill-color);\n",
              "      border-top-color: var(--fill-color);\n",
              "    }\n",
              "    30% {\n",
              "      border-color: transparent;\n",
              "      border-left-color: var(--fill-color);\n",
              "      border-top-color: var(--fill-color);\n",
              "      border-right-color: var(--fill-color);\n",
              "    }\n",
              "    40% {\n",
              "      border-color: transparent;\n",
              "      border-right-color: var(--fill-color);\n",
              "      border-top-color: var(--fill-color);\n",
              "    }\n",
              "    60% {\n",
              "      border-color: transparent;\n",
              "      border-right-color: var(--fill-color);\n",
              "    }\n",
              "    80% {\n",
              "      border-color: transparent;\n",
              "      border-right-color: var(--fill-color);\n",
              "      border-bottom-color: var(--fill-color);\n",
              "    }\n",
              "    90% {\n",
              "      border-color: transparent;\n",
              "      border-bottom-color: var(--fill-color);\n",
              "    }\n",
              "  }\n",
              "</style>\n",
              "\n",
              "      <script>\n",
              "        async function quickchart(key) {\n",
              "          const quickchartButtonEl =\n",
              "            document.querySelector('#' + key + ' button');\n",
              "          quickchartButtonEl.disabled = true;  // To prevent multiple clicks.\n",
              "          quickchartButtonEl.classList.add('colab-df-spinner');\n",
              "          try {\n",
              "            const charts = await google.colab.kernel.invokeFunction(\n",
              "                'suggestCharts', [key], {});\n",
              "          } catch (error) {\n",
              "            console.error('Error during call to suggestCharts:', error);\n",
              "          }\n",
              "          quickchartButtonEl.classList.remove('colab-df-spinner');\n",
              "          quickchartButtonEl.classList.add('colab-df-quickchart-complete');\n",
              "        }\n",
              "        (() => {\n",
              "          let quickchartButtonEl =\n",
              "            document.querySelector('#df-247af797-a1a9-4932-8f39-5d679d042431 button');\n",
              "          quickchartButtonEl.style.display =\n",
              "            google.colab.kernel.accessAllowed ? 'block' : 'none';\n",
              "        })();\n",
              "      </script>\n",
              "    </div>\n",
              "\n",
              "    </div>\n",
              "  </div>\n"
            ],
            "application/vnd.google.colaboratory.intrinsic+json": {
              "type": "dataframe",
              "summary": "{\n  \"name\": \"display(test_df\",\n  \"rows\": 5,\n  \"fields\": [\n    {\n      \"column\": \"ds\",\n      \"properties\": {\n        \"dtype\": \"date\",\n        \"min\": \"2012-12-02 00:00:00\",\n        \"max\": \"2012-12-06 00:00:00\",\n        \"num_unique_values\": 5,\n        \"samples\": [\n          \"2012-12-03 00:00:00\",\n          \"2012-12-06 00:00:00\",\n          \"2012-12-04 00:00:00\"\n        ],\n        \"semantic_type\": \"\",\n        \"description\": \"\"\n      }\n    },\n    {\n      \"column\": \"y\",\n      \"properties\": {\n        \"dtype\": \"number\",\n        \"std\": 760,\n        \"min\": 4649,\n        \"max\": 6606,\n        \"num_unique_values\": 5,\n        \"samples\": [\n          6234,\n          5375,\n          6606\n        ],\n        \"semantic_type\": \"\",\n        \"description\": \"\"\n      }\n    }\n  ]\n}"
            }
          },
          "metadata": {}
        }
      ]
    },
    {
      "cell_type": "markdown",
      "metadata": {
        "id": "812abebe"
      },
      "source": [
        "## Fit prophet model\n",
        "\n",
        "### Subtask:\n",
        "Initialize and fit a Prophet model to the training data, enabling yearly seasonality.\n"
      ]
    },
    {
      "cell_type": "markdown",
      "metadata": {
        "id": "015db396"
      },
      "source": [
        "**Reasoning**:\n",
        "Initialize and fit a Prophet model to the training data, enabling yearly seasonality.\n",
        "\n"
      ]
    },
    {
      "cell_type": "code",
      "metadata": {
        "colab": {
          "base_uri": "https://localhost:8080/"
        },
        "id": "369a1072",
        "outputId": "e3b98f14-7a31-40bf-b73a-886a47a26687"
      },
      "source": [
        "from prophet import Prophet\n",
        "\n",
        "# Instantiate a Prophet model with yearly seasonality enabled\n",
        "model = Prophet(yearly_seasonality=True)\n",
        "\n",
        "# Fit the model to the training data\n",
        "model.fit(train_df)\n",
        "\n",
        "print(\"Prophet model fitted successfully with yearly seasonality.\")"
      ],
      "execution_count": 6,
      "outputs": [
        {
          "output_type": "stream",
          "name": "stderr",
          "text": [
            "INFO:prophet:Disabling daily seasonality. Run prophet with daily_seasonality=True to override this.\n",
            "DEBUG:cmdstanpy:input tempfile: /tmp/tmp8eq8e1gc/0v8m5e98.json\n",
            "DEBUG:cmdstanpy:input tempfile: /tmp/tmp8eq8e1gc/dxcot5ux.json\n",
            "DEBUG:cmdstanpy:idx 0\n",
            "DEBUG:cmdstanpy:running CmdStan, num_threads: None\n",
            "DEBUG:cmdstanpy:CmdStan args: ['/usr/local/lib/python3.11/dist-packages/prophet/stan_model/prophet_model.bin', 'random', 'seed=65413', 'data', 'file=/tmp/tmp8eq8e1gc/0v8m5e98.json', 'init=/tmp/tmp8eq8e1gc/dxcot5ux.json', 'output', 'file=/tmp/tmp8eq8e1gc/prophet_modelpj6ll7rz/prophet_model-20250810111724.csv', 'method=optimize', 'algorithm=lbfgs', 'iter=10000']\n",
            "11:17:24 - cmdstanpy - INFO - Chain [1] start processing\n",
            "INFO:cmdstanpy:Chain [1] start processing\n",
            "11:17:24 - cmdstanpy - INFO - Chain [1] done processing\n",
            "INFO:cmdstanpy:Chain [1] done processing\n"
          ]
        },
        {
          "output_type": "stream",
          "name": "stdout",
          "text": [
            "Prophet model fitted successfully with yearly seasonality.\n"
          ]
        }
      ]
    },
    {
      "cell_type": "markdown",
      "metadata": {
        "id": "b566665d"
      },
      "source": [
        "## Forecast\n",
        "\n",
        "### Subtask:\n",
        "Generate future dates for the next 30 days and make predictions using the fitted Prophet model.\n"
      ]
    },
    {
      "cell_type": "markdown",
      "metadata": {
        "id": "4a8384b1"
      },
      "source": [
        "**Reasoning**:\n",
        "Generate future dates for forecasting and make predictions using the fitted Prophet model.\n",
        "\n"
      ]
    },
    {
      "cell_type": "code",
      "metadata": {
        "colab": {
          "base_uri": "https://localhost:8080/",
          "height": 223
        },
        "id": "a4f4221d",
        "outputId": "b39e3985-ae9f-4a41-f9e5-77f44e90820e"
      },
      "source": [
        "# Create a DataFrame with future dates for the next 30 days\n",
        "future = model.make_future_dataframe(periods=30)\n",
        "\n",
        "# Generate predictions for the future dates\n",
        "forecast = model.predict(future)\n",
        "\n",
        "# Display the first few rows of the forecast DataFrame\n",
        "print(\"Forecast for the next 30 days:\")\n",
        "display(forecast[['ds', 'yhat', 'yhat_lower', 'yhat_upper']].tail())"
      ],
      "execution_count": 7,
      "outputs": [
        {
          "output_type": "stream",
          "name": "stdout",
          "text": [
            "Forecast for the next 30 days:\n"
          ]
        },
        {
          "output_type": "display_data",
          "data": {
            "text/plain": [
              "            ds         yhat   yhat_lower   yhat_upper\n",
              "726 2012-12-27  5175.133855  3948.236967  6332.008666\n",
              "727 2012-12-28  5208.016524  3974.457744  6459.523572\n",
              "728 2012-12-29  5151.811059  3935.748040  6275.230555\n",
              "729 2012-12-30  4868.109454  3591.679690  6111.139409\n",
              "730 2012-12-31  4957.939277  3814.933908  6074.112267"
            ],
            "text/html": [
              "\n",
              "  <div id=\"df-27621559-1589-4ae5-940d-511d21548665\" class=\"colab-df-container\">\n",
              "    <div>\n",
              "<style scoped>\n",
              "    .dataframe tbody tr th:only-of-type {\n",
              "        vertical-align: middle;\n",
              "    }\n",
              "\n",
              "    .dataframe tbody tr th {\n",
              "        vertical-align: top;\n",
              "    }\n",
              "\n",
              "    .dataframe thead th {\n",
              "        text-align: right;\n",
              "    }\n",
              "</style>\n",
              "<table border=\"1\" class=\"dataframe\">\n",
              "  <thead>\n",
              "    <tr style=\"text-align: right;\">\n",
              "      <th></th>\n",
              "      <th>ds</th>\n",
              "      <th>yhat</th>\n",
              "      <th>yhat_lower</th>\n",
              "      <th>yhat_upper</th>\n",
              "    </tr>\n",
              "  </thead>\n",
              "  <tbody>\n",
              "    <tr>\n",
              "      <th>726</th>\n",
              "      <td>2012-12-27</td>\n",
              "      <td>5175.133855</td>\n",
              "      <td>3948.236967</td>\n",
              "      <td>6332.008666</td>\n",
              "    </tr>\n",
              "    <tr>\n",
              "      <th>727</th>\n",
              "      <td>2012-12-28</td>\n",
              "      <td>5208.016524</td>\n",
              "      <td>3974.457744</td>\n",
              "      <td>6459.523572</td>\n",
              "    </tr>\n",
              "    <tr>\n",
              "      <th>728</th>\n",
              "      <td>2012-12-29</td>\n",
              "      <td>5151.811059</td>\n",
              "      <td>3935.748040</td>\n",
              "      <td>6275.230555</td>\n",
              "    </tr>\n",
              "    <tr>\n",
              "      <th>729</th>\n",
              "      <td>2012-12-30</td>\n",
              "      <td>4868.109454</td>\n",
              "      <td>3591.679690</td>\n",
              "      <td>6111.139409</td>\n",
              "    </tr>\n",
              "    <tr>\n",
              "      <th>730</th>\n",
              "      <td>2012-12-31</td>\n",
              "      <td>4957.939277</td>\n",
              "      <td>3814.933908</td>\n",
              "      <td>6074.112267</td>\n",
              "    </tr>\n",
              "  </tbody>\n",
              "</table>\n",
              "</div>\n",
              "    <div class=\"colab-df-buttons\">\n",
              "\n",
              "  <div class=\"colab-df-container\">\n",
              "    <button class=\"colab-df-convert\" onclick=\"convertToInteractive('df-27621559-1589-4ae5-940d-511d21548665')\"\n",
              "            title=\"Convert this dataframe to an interactive table.\"\n",
              "            style=\"display:none;\">\n",
              "\n",
              "  <svg xmlns=\"http://www.w3.org/2000/svg\" height=\"24px\" viewBox=\"0 -960 960 960\">\n",
              "    <path d=\"M120-120v-720h720v720H120Zm60-500h600v-160H180v160Zm220 220h160v-160H400v160Zm0 220h160v-160H400v160ZM180-400h160v-160H180v160Zm440 0h160v-160H620v160ZM180-180h160v-160H180v160Zm440 0h160v-160H620v160Z\"/>\n",
              "  </svg>\n",
              "    </button>\n",
              "\n",
              "  <style>\n",
              "    .colab-df-container {\n",
              "      display:flex;\n",
              "      gap: 12px;\n",
              "    }\n",
              "\n",
              "    .colab-df-convert {\n",
              "      background-color: #E8F0FE;\n",
              "      border: none;\n",
              "      border-radius: 50%;\n",
              "      cursor: pointer;\n",
              "      display: none;\n",
              "      fill: #1967D2;\n",
              "      height: 32px;\n",
              "      padding: 0 0 0 0;\n",
              "      width: 32px;\n",
              "    }\n",
              "\n",
              "    .colab-df-convert:hover {\n",
              "      background-color: #E2EBFA;\n",
              "      box-shadow: 0px 1px 2px rgba(60, 64, 67, 0.3), 0px 1px 3px 1px rgba(60, 64, 67, 0.15);\n",
              "      fill: #174EA6;\n",
              "    }\n",
              "\n",
              "    .colab-df-buttons div {\n",
              "      margin-bottom: 4px;\n",
              "    }\n",
              "\n",
              "    [theme=dark] .colab-df-convert {\n",
              "      background-color: #3B4455;\n",
              "      fill: #D2E3FC;\n",
              "    }\n",
              "\n",
              "    [theme=dark] .colab-df-convert:hover {\n",
              "      background-color: #434B5C;\n",
              "      box-shadow: 0px 1px 3px 1px rgba(0, 0, 0, 0.15);\n",
              "      filter: drop-shadow(0px 1px 2px rgba(0, 0, 0, 0.3));\n",
              "      fill: #FFFFFF;\n",
              "    }\n",
              "  </style>\n",
              "\n",
              "    <script>\n",
              "      const buttonEl =\n",
              "        document.querySelector('#df-27621559-1589-4ae5-940d-511d21548665 button.colab-df-convert');\n",
              "      buttonEl.style.display =\n",
              "        google.colab.kernel.accessAllowed ? 'block' : 'none';\n",
              "\n",
              "      async function convertToInteractive(key) {\n",
              "        const element = document.querySelector('#df-27621559-1589-4ae5-940d-511d21548665');\n",
              "        const dataTable =\n",
              "          await google.colab.kernel.invokeFunction('convertToInteractive',\n",
              "                                                    [key], {});\n",
              "        if (!dataTable) return;\n",
              "\n",
              "        const docLinkHtml = 'Like what you see? Visit the ' +\n",
              "          '<a target=\"_blank\" href=https://colab.research.google.com/notebooks/data_table.ipynb>data table notebook</a>'\n",
              "          + ' to learn more about interactive tables.';\n",
              "        element.innerHTML = '';\n",
              "        dataTable['output_type'] = 'display_data';\n",
              "        await google.colab.output.renderOutput(dataTable, element);\n",
              "        const docLink = document.createElement('div');\n",
              "        docLink.innerHTML = docLinkHtml;\n",
              "        element.appendChild(docLink);\n",
              "      }\n",
              "    </script>\n",
              "  </div>\n",
              "\n",
              "\n",
              "    <div id=\"df-beb22bb7-67ad-40bf-85e3-3af9b0b095ba\">\n",
              "      <button class=\"colab-df-quickchart\" onclick=\"quickchart('df-beb22bb7-67ad-40bf-85e3-3af9b0b095ba')\"\n",
              "                title=\"Suggest charts\"\n",
              "                style=\"display:none;\">\n",
              "\n",
              "<svg xmlns=\"http://www.w3.org/2000/svg\" height=\"24px\"viewBox=\"0 0 24 24\"\n",
              "     width=\"24px\">\n",
              "    <g>\n",
              "        <path d=\"M19 3H5c-1.1 0-2 .9-2 2v14c0 1.1.9 2 2 2h14c1.1 0 2-.9 2-2V5c0-1.1-.9-2-2-2zM9 17H7v-7h2v7zm4 0h-2V7h2v10zm4 0h-2v-4h2v4z\"/>\n",
              "    </g>\n",
              "</svg>\n",
              "      </button>\n",
              "\n",
              "<style>\n",
              "  .colab-df-quickchart {\n",
              "      --bg-color: #E8F0FE;\n",
              "      --fill-color: #1967D2;\n",
              "      --hover-bg-color: #E2EBFA;\n",
              "      --hover-fill-color: #174EA6;\n",
              "      --disabled-fill-color: #AAA;\n",
              "      --disabled-bg-color: #DDD;\n",
              "  }\n",
              "\n",
              "  [theme=dark] .colab-df-quickchart {\n",
              "      --bg-color: #3B4455;\n",
              "      --fill-color: #D2E3FC;\n",
              "      --hover-bg-color: #434B5C;\n",
              "      --hover-fill-color: #FFFFFF;\n",
              "      --disabled-bg-color: #3B4455;\n",
              "      --disabled-fill-color: #666;\n",
              "  }\n",
              "\n",
              "  .colab-df-quickchart {\n",
              "    background-color: var(--bg-color);\n",
              "    border: none;\n",
              "    border-radius: 50%;\n",
              "    cursor: pointer;\n",
              "    display: none;\n",
              "    fill: var(--fill-color);\n",
              "    height: 32px;\n",
              "    padding: 0;\n",
              "    width: 32px;\n",
              "  }\n",
              "\n",
              "  .colab-df-quickchart:hover {\n",
              "    background-color: var(--hover-bg-color);\n",
              "    box-shadow: 0 1px 2px rgba(60, 64, 67, 0.3), 0 1px 3px 1px rgba(60, 64, 67, 0.15);\n",
              "    fill: var(--button-hover-fill-color);\n",
              "  }\n",
              "\n",
              "  .colab-df-quickchart-complete:disabled,\n",
              "  .colab-df-quickchart-complete:disabled:hover {\n",
              "    background-color: var(--disabled-bg-color);\n",
              "    fill: var(--disabled-fill-color);\n",
              "    box-shadow: none;\n",
              "  }\n",
              "\n",
              "  .colab-df-spinner {\n",
              "    border: 2px solid var(--fill-color);\n",
              "    border-color: transparent;\n",
              "    border-bottom-color: var(--fill-color);\n",
              "    animation:\n",
              "      spin 1s steps(1) infinite;\n",
              "  }\n",
              "\n",
              "  @keyframes spin {\n",
              "    0% {\n",
              "      border-color: transparent;\n",
              "      border-bottom-color: var(--fill-color);\n",
              "      border-left-color: var(--fill-color);\n",
              "    }\n",
              "    20% {\n",
              "      border-color: transparent;\n",
              "      border-left-color: var(--fill-color);\n",
              "      border-top-color: var(--fill-color);\n",
              "    }\n",
              "    30% {\n",
              "      border-color: transparent;\n",
              "      border-left-color: var(--fill-color);\n",
              "      border-top-color: var(--fill-color);\n",
              "      border-right-color: var(--fill-color);\n",
              "    }\n",
              "    40% {\n",
              "      border-color: transparent;\n",
              "      border-right-color: var(--fill-color);\n",
              "      border-top-color: var(--fill-color);\n",
              "    }\n",
              "    60% {\n",
              "      border-color: transparent;\n",
              "      border-right-color: var(--fill-color);\n",
              "    }\n",
              "    80% {\n",
              "      border-color: transparent;\n",
              "      border-right-color: var(--fill-color);\n",
              "      border-bottom-color: var(--fill-color);\n",
              "    }\n",
              "    90% {\n",
              "      border-color: transparent;\n",
              "      border-bottom-color: var(--fill-color);\n",
              "    }\n",
              "  }\n",
              "</style>\n",
              "\n",
              "      <script>\n",
              "        async function quickchart(key) {\n",
              "          const quickchartButtonEl =\n",
              "            document.querySelector('#' + key + ' button');\n",
              "          quickchartButtonEl.disabled = true;  // To prevent multiple clicks.\n",
              "          quickchartButtonEl.classList.add('colab-df-spinner');\n",
              "          try {\n",
              "            const charts = await google.colab.kernel.invokeFunction(\n",
              "                'suggestCharts', [key], {});\n",
              "          } catch (error) {\n",
              "            console.error('Error during call to suggestCharts:', error);\n",
              "          }\n",
              "          quickchartButtonEl.classList.remove('colab-df-spinner');\n",
              "          quickchartButtonEl.classList.add('colab-df-quickchart-complete');\n",
              "        }\n",
              "        (() => {\n",
              "          let quickchartButtonEl =\n",
              "            document.querySelector('#df-beb22bb7-67ad-40bf-85e3-3af9b0b095ba button');\n",
              "          quickchartButtonEl.style.display =\n",
              "            google.colab.kernel.accessAllowed ? 'block' : 'none';\n",
              "        })();\n",
              "      </script>\n",
              "    </div>\n",
              "\n",
              "    </div>\n",
              "  </div>\n"
            ],
            "application/vnd.google.colaboratory.intrinsic+json": {
              "type": "dataframe",
              "summary": "{\n  \"name\": \"display(forecast[['ds', 'yhat', 'yhat_lower', 'yhat_upper']]\",\n  \"rows\": 5,\n  \"fields\": [\n    {\n      \"column\": \"ds\",\n      \"properties\": {\n        \"dtype\": \"date\",\n        \"min\": \"2012-12-27 00:00:00\",\n        \"max\": \"2012-12-31 00:00:00\",\n        \"num_unique_values\": 5,\n        \"samples\": [\n          \"2012-12-28 00:00:00\",\n          \"2012-12-31 00:00:00\",\n          \"2012-12-29 00:00:00\"\n        ],\n        \"semantic_type\": \"\",\n        \"description\": \"\"\n      }\n    },\n    {\n      \"column\": \"yhat\",\n      \"properties\": {\n        \"dtype\": \"number\",\n        \"std\": 150.07322477219734,\n        \"min\": 4868.109453839495,\n        \"max\": 5208.016523584902,\n        \"num_unique_values\": 5,\n        \"samples\": [\n          5208.016523584902,\n          4957.939276656421,\n          5151.811058993959\n        ],\n        \"semantic_type\": \"\",\n        \"description\": \"\"\n      }\n    },\n    {\n      \"column\": \"yhat_lower\",\n      \"properties\": {\n        \"dtype\": \"number\",\n        \"std\": 158.4350282626749,\n        \"min\": 3591.679689686647,\n        \"max\": 3974.4577435147908,\n        \"num_unique_values\": 5,\n        \"samples\": [\n          3974.4577435147908,\n          3814.933908059847,\n          3935.7480401653656\n        ],\n        \"semantic_type\": \"\",\n        \"description\": \"\"\n      }\n    },\n    {\n      \"column\": \"yhat_upper\",\n      \"properties\": {\n        \"dtype\": \"number\",\n        \"std\": 159.2796882242947,\n        \"min\": 6074.112266673817,\n        \"max\": 6459.523572340232,\n        \"num_unique_values\": 5,\n        \"samples\": [\n          6459.523572340232,\n          6074.112266673817,\n          6275.230554570696\n        ],\n        \"semantic_type\": \"\",\n        \"description\": \"\"\n      }\n    }\n  ]\n}"
            }
          },
          "metadata": {}
        }
      ]
    },
    {
      "cell_type": "markdown",
      "metadata": {
        "id": "e04c488a"
      },
      "source": [
        "## Visualize forecast\n",
        "\n",
        "### Subtask:\n",
        "Plot the actual daily rentals from the test set against the Prophet model's predictions.\n"
      ]
    },
    {
      "cell_type": "markdown",
      "metadata": {
        "id": "e9a56c93"
      },
      "source": [
        "**Reasoning**:\n",
        "Plot the actual and forecasted values for the test set to visually compare the model's performance.\n",
        "\n"
      ]
    },
    {
      "cell_type": "code",
      "metadata": {
        "colab": {
          "base_uri": "https://localhost:8080/",
          "height": 564
        },
        "id": "0905b9ad",
        "outputId": "a8770f52-4628-42de-f293-623fd5172818"
      },
      "source": [
        "import matplotlib.pyplot as plt\n",
        "\n",
        "# Create a figure and axes object for the plot\n",
        "plt.figure(figsize=(12, 6))\n",
        "\n",
        "# Plot the actual values from the test set\n",
        "plt.plot(test_df['ds'], test_df['y'], label='Actual')\n",
        "\n",
        "# Filter the forecast to include only the dates in the test set and plot the predicted values\n",
        "forecast_test = forecast[forecast['ds'].isin(test_df['ds'])]\n",
        "plt.plot(forecast_test['ds'], forecast_test['yhat'], label='Forecast')\n",
        "\n",
        "# Add title and labels\n",
        "plt.title('Prophet Forecast vs. Actual Daily Bike Rentals (Last 30 Days)')\n",
        "plt.xlabel('Date')\n",
        "plt.ylabel('Number of Bike Rentals')\n",
        "\n",
        "# Include a legend\n",
        "plt.legend()\n",
        "\n",
        "# Display the plot\n",
        "plt.show()"
      ],
      "execution_count": 8,
      "outputs": [
        {
          "output_type": "display_data",
          "data": {
            "text/plain": [
              "<Figure size 1200x600 with 1 Axes>"
            ],
            "image/png": "[encoded data removed]"
          },
          "metadata": {}
        }
      ]
    },
    {
      "cell_type": "markdown",
      "metadata": {
        "id": "e667e454"
      },
      "source": [
        "**Reasoning**:\n",
        "Calculate the Mean Squared Error (MSE) and Mean Absolute Error (MAE) between the actual and forecasted values in the test set to evaluate the model's accuracy.\n",
        "\n"
      ]
    },
    {
      "cell_type": "code",
      "metadata": {
        "colab": {
          "base_uri": "https://localhost:8080/"
        },
        "id": "4395058e",
        "outputId": "4f6b332d-09a9-4db7-c9fc-cd110e83e53b"
      },
      "source": [
        "from sklearn.metrics import mean_squared_error, mean_absolute_error\n",
        "\n",
        "# Calculate Mean Squared Error (MSE)\n",
        "mse = mean_squared_error(test_df['y'], forecast_test['yhat'])\n",
        "\n",
        "# Calculate Mean Absolute Error (MAE)\n",
        "mae = mean_absolute_error(test_df['y'], forecast_test['yhat'])\n",
        "\n",
        "print(f\"Mean Squared Error (MSE): {mse}\")\n",
        "print(f\"Mean Absolute Error (MAE): {mae}\")"
      ],
      "execution_count": 9,
      "outputs": [
        {
          "output_type": "stream",
          "name": "stdout",
          "text": [
            "Mean Squared Error (MSE): 4248061.412320149\n",
            "Mean Absolute Error (MAE): 1504.541971536154\n"
          ]
        }
      ]
    },
    {
      "cell_type": "markdown",
      "metadata": {
        "id": "7180f1cb"
      },
      "source": [
        "## Summarize findings\n",
        "\n",
        "### Subtask:\n",
        "Provide a summary of the model's accuracy based on the evaluation metrics and briefly discuss any notable trends or patterns observed in the data and predictions.\n"
      ]
    },
    {
      "cell_type": "markdown",
      "metadata": {
        "id": "bb28f6eb"
      },
      "source": [
        "**Reasoning**:\n",
        "Analyze the calculated evaluation metrics and the visualization to summarize the model's accuracy and discuss observed trends and patterns.\n",
        "\n"
      ]
    },
    {
      "cell_type": "code",
      "metadata": {
        "colab": {
          "base_uri": "https://localhost:8080/"
        },
        "id": "7be151d1",
        "outputId": "06966ffc-bd5a-430e-a662-93d47c56b750"
      },
      "source": [
        "# Analyze MSE and MAE\n",
        "print(f\"Mean Squared Error (MSE): {mse}\")\n",
        "print(f\"Mean Absolute Error (MAE): {mae}\")\n",
        "\n",
        "# Discuss the interpretation of MSE and MAE in the context of bike rentals\n",
        "print(\"\\nAnalysis of Evaluation Metrics:\")\n",
        "print(f\"The Mean Squared Error (MSE) of {mse:.2f} represents the average squared difference between the actual and predicted daily bike rentals.\")\n",
        "print(f\"The Mean Absolute Error (MAE) of {mae:.2f} indicates that, on average, the model's predictions were off by approximately {mae:.2f} bike rentals.\")\n",
        "print(\"Considering the typical daily rental counts can range from hundreds to several thousands, an MAE of this magnitude suggests that while the model captures some overall patterns, the predictions for individual days can still have a significant error.\")\n",
        "\n",
        "# Discuss trends and patterns observed in the data and predictions (based on the previous plot)\n",
        "print(\"\\nObservations from Visualization:\")\n",
        "print(\"Based on the plot of actual vs. forecasted values for the last 30 days, the Prophet model appears to capture the general trend and some day-of-week seasonality.\")\n",
        "print(\"However, there are noticeable discrepancies, particularly on days with sharp drops or peaks in actual rentals that the model's smoother forecast does not fully capture.\")\n",
        "print(\"This suggests that while the model identifies the broader patterns, it may not be sensitive enough to sudden fluctuations or specific events that impact bike rentals.\")\n",
        "\n",
        "# Provide an overall summary of the model's performance\n",
        "print(\"\\nOverall Model Performance Summary:\")\n",
        "print(f\"The Prophet model provides a reasonable forecast for daily bike rentals, capturing the overall trend and yearly seasonality as evidenced by the visualization.\")\n",
        "print(f\"The MAE of {mae:.2f} quantifies the average prediction error, indicating that the forecasts are within a certain range of the actual values, but with room for improvement in capturing daily variability.\")\n",
        "print(\"Future work could involve incorporating additional regressors (e.g., weather data, holidays) or further tuning the Prophet model's parameters to potentially reduce the error and better capture short-term fluctuations.\")"
      ],
      "execution_count": 10,
      "outputs": [
        {
          "output_type": "stream",
          "name": "stdout",
          "text": [
            "Mean Squared Error (MSE): 4248061.412320149\n",
            "Mean Absolute Error (MAE): 1504.541971536154\n",
            "\n",
            "Analysis of Evaluation Metrics:\n",
            "The Mean Squared Error (MSE) of 4248061.41 represents the average squared difference between the actual and predicted daily bike rentals.\n",
            "The Mean Absolute Error (MAE) of 1504.54 indicates that, on average, the model's predictions were off by approximately 1504.54 bike rentals.\n",
            "Considering the typical daily rental counts can range from hundreds to several thousands, an MAE of this magnitude suggests that while the model captures some overall patterns, the predictions for individual days can still have a significant error.\n",
            "\n",
            "Observations from Visualization:\n",
            "Based on the plot of actual vs. forecasted values for the last 30 days, the Prophet model appears to capture the general trend and some day-of-week seasonality.\n",
            "However, there are noticeable discrepancies, particularly on days with sharp drops or peaks in actual rentals that the model's smoother forecast does not fully capture.\n",
            "This suggests that while the model identifies the broader patterns, it may not be sensitive enough to sudden fluctuations or specific events that impact bike rentals.\n",
            "\n",
            "Overall Model Performance Summary:\n",
            "The Prophet model provides a reasonable forecast for daily bike rentals, capturing the overall trend and yearly seasonality as evidenced by the visualization.\n",
            "The MAE of 1504.54 quantifies the average prediction error, indicating that the forecasts are within a certain range of the actual values, but with room for improvement in capturing daily variability.\n",
            "Future work could involve incorporating additional regressors (e.g., weather data, holidays) or further tuning the Prophet model's parameters to potentially reduce the error and better capture short-term fluctuations.\n"
          ]
        }
      ]
    },
    {
      "cell_type": "markdown",
      "metadata": {
        "id": "62aa072f"
      },
      "source": [
        "## Summary:\n",
        "\n",
        "### Data Analysis Key Findings\n",
        "\n",
        "*   All required libraries (pandas, matplotlib, prophet, and scikit-learn) were successfully installed.\n",
        "*   The `day.csv` dataset was loaded, the 'dteday' column was converted to datetime objects, and the data was sorted by date.\n",
        "*   The data was prepared for Prophet by selecting and renaming 'dteday' to 'ds' and 'cnt' to 'y'.\n",
        "*   No missing values or duplicate dates were found in the prepared data.\n",
        "*   The 'y' column was confirmed to be of a numeric data type (`int64`).\n",
        "*   A time series plot of daily bike rentals over time was generated, showing trends and potential seasonality.\n",
        "*   The data was successfully split into a training set (701 rows) and a testing set (last 30 days, 30 rows).\n",
        "*   A Prophet model with yearly seasonality enabled was initialized and fitted to the training data.\n",
        "*   Future dates for the next 30 days were generated, and predictions were made using the fitted Prophet model.\n",
        "*   A plot comparing the actual daily rentals from the test set against the Prophet model's predictions was created.\n",
        "*   The Mean Squared Error (MSE) of the model on the test set was calculated as 4,248,061.41.\n",
        "*   The Mean Absolute Error (MAE) of the model on the test set was calculated as 1,504.54.\n",
        "*   An MAE of 1,504.54 indicates that, on average, the model's predictions were off by approximately 1500 bike rentals.\n",
        "*   The visualization showed that the model captured the general trend and likely day-of-week seasonality but struggled with sharp fluctuations.\n",
        "\n",
        "### Insights or Next Steps\n",
        "\n",
        "*   The model captures the overall trend and seasonality but has a notable average error (MAE of ~1500 rentals) for individual daily predictions.\n",
        "*   Future steps could involve incorporating external factors like weather data, holidays, or special events as additional regressors in the Prophet model to potentially improve accuracy and capture short-term variability.\n"
      ]
    }
  ]
}